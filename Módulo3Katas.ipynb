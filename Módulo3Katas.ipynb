{
 "cells": [
  {
   "cell_type": "code",
   "execution_count": 5,
   "metadata": {},
   "outputs": [
    {
     "name": "stdout",
     "output_type": "stream",
     "text": [
      "Advertencia, Asteroide se acerca a la tierra!\n"
     ]
    }
   ],
   "source": [
    "# Para este ejercicio, escribirás una lógica condicional que imprima una \n",
    "# advertencia si un asteroide se acerca a la Tierra demasiado rápido. \n",
    "# La velocidad del asteroide varía dependiendo de lo cerca que esté del sol, \n",
    "# y cualquier velocidad superior a 25 kilómetros por segundo (km/s) \n",
    "# merece una advertencia.\n",
    "\n",
    "# Un asteroide se acerca, y viaja a una velocidad de 49 km/s.\n",
    "\n",
    "a = 49\n",
    "if a >= 25:\n",
    "    print('Advertencia, Asteroide se acerca a la tierra!')\n",
    "else:\n",
    "    print('No hay advertencia')"
   ]
  },
  {
   "cell_type": "code",
   "execution_count": 6,
   "metadata": {},
   "outputs": [
    {
     "name": "stdout",
     "output_type": "stream",
     "text": [
      "Mira, un asteroide tenue en el cielo\n"
     ]
    }
   ],
   "source": [
    "# Si un asteroide entra en la atmósfera de la Tierra a una velocidad mayor \n",
    "# o igual a 20 km/s, a veces produce un rayo de luz que se puede ver desde la Tierra.\n",
    "# Escribe la lógica condicional que usa declaraciones if, else, y elif \n",
    "# para alertar a las personas de todo el mundo que deben buscar un asteroide en el \n",
    "# cielo. ¡Hay uno que se dirige a la tierra ahora a una velocidad de 19 km/s!\n",
    "\n",
    "a = 19\n",
    "if a > 20:\n",
    "    print('Mira arriba, hay un asteroide en el cielo')\n",
    "elif a == 19:\n",
    "    print('Mira, un asteroide tenue en el cielo')\n",
    "else:\n",
    "    print('Hay un asteroide en el cielo, pero no es visible')\n",
    "     \n"
   ]
  },
  {
   "cell_type": "code",
   "execution_count": 7,
   "metadata": {},
   "outputs": [
    {
     "name": "stdout",
     "output_type": "stream",
     "text": [
      "Mira arriba, hay un asteroide en el cielo\n"
     ]
    }
   ],
   "source": [
    "vel_ast = 23\n",
    "tam_ast = 30\n",
    "if tam_ast > 25 and vel_ast > 25:\n",
    "    print('Peligro!, aun asteroide visible desde el cielo se acerca a la tierra')\n",
    "elif vel_ast >= 20:\n",
    "    print('Mira arriba, hay un asteroide en el cielo')\n",
    "elif tam_ast < 25:\n",
    "    print('Hay un asteroide en el cielo, pero no es visieble')\n",
    "else:\n",
    "    print('Hay un asteroide en el cielo, pero no es visible')"
   ]
  }
 ],
 "metadata": {
  "interpreter": {
   "hash": "60a1bc8aa7d3e608df2f41330e271b4940f48e9d0720675dbc74fab66624370b"
  },
  "kernelspec": {
   "display_name": "Python 3.10.2 64-bit",
   "language": "python",
   "name": "python3"
  },
  "language_info": {
   "codemirror_mode": {
    "name": "ipython",
    "version": 3
   },
   "file_extension": ".py",
   "mimetype": "text/x-python",
   "name": "python",
   "nbconvert_exporter": "python",
   "pygments_lexer": "ipython3",
   "version": "3.10.2"
  },
  "orig_nbformat": 4
 },
 "nbformat": 4,
 "nbformat_minor": 2
}
